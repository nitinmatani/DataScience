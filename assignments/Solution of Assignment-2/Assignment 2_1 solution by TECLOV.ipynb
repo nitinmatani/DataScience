{
 "cells": [
  {
   "cell_type": "markdown",
   "metadata": {},
   "source": [
    "# Guessing Game Challenge\n",
    "\n",
    "Let's use `while` loops to create a guessing game.\n",
    "\n",
    "The Challenge:\n",
    "\n",
    "Write a program that picks a random integer from 1 to 100, and has players guess the number. The rules are:\n",
    "\n",
    "1. If a player's guess is less than 1 or greater than 100, say \"OUT OF BOUNDS\"\n",
    "2. On a player's first turn, if their guess is\n",
    " * within 10 of the number, return \"WARM!\"\n",
    " * further than 10 away from the number, return \"COLD!\"\n",
    "3. On all subsequent turns, if a guess is \n",
    " * closer to the number than the previous guess return \"WARMER!\"\n",
    " * farther from the number than the previous guess, return \"COLDER!\"\n",
    "4. When the player's guess equals the number, tell them they've guessed correctly *and* how many guesses it took!\n",
    "\n",
    "You can try this from scratch, or follow the steps outlined below. A separate Solution notebook has been provided. Good luck!\n"
   ]
  },
  {
   "cell_type": "markdown",
   "metadata": {},
   "source": [
    "#### 2.1.1 First, pick a random integer from 1 to 100 using the random module and assign it to a variable\n",
    "\n",
    "Note: `random.randint(a,b)` returns a random integer in range `[a, b]`, including both end points."
   ]
  },
  {
   "cell_type": "code",
   "execution_count": 1,
   "metadata": {},
   "outputs": [
    {
     "data": {
      "text/plain": [
       "90"
      ]
     },
     "execution_count": 1,
     "metadata": {},
     "output_type": "execute_result"
    }
   ],
   "source": [
    "import random # import the library\n",
    "num = random.randint(1,100) # assigning random number in the range of 1 to 100 to the variable num\n",
    "num  # print the number to be guessed"
   ]
  },
  {
   "cell_type": "markdown",
   "metadata": {},
   "source": [
    "#### 2.1.2 Next, print an introduction to the game and explain the rules"
   ]
  },
  {
   "cell_type": "code",
   "execution_count": 3,
   "metadata": {},
   "outputs": [
    {
     "name": "stdout",
     "output_type": "stream",
     "text": [
      "                   Welcome to \"Guess the number\" game\n",
      "\n",
      "-------------------------------------------------------------------------\n",
      "\n",
      "      Objective: \n",
      " \n",
      "      you have to guess the desired number with minimum tries! \n",
      "\n",
      "\n",
      "      Rules of the game: Like every game, this game also has some rules to follow. \n",
      "\n",
      "      (1)\t As a player, you have to guess a number between 1 to 100!,  \n",
      "      \t\t if you guessed any number beyond this range, then you will be prompted to try again.\n",
      "\n",
      "      \t\t (please note: this invalid entries will also increase the no. of trails.\n",
      "      \t\t you all are discouraged to enter any number beyond the specified range)\n",
      "\n",
      "      (2)\t However, we will assist you in guessing you the right number. \n",
      "\n",
      "      \t\t\t In first run, if you guess within +/- 10 of the number: \n",
      "      \t\t\t\t then you will be prompted \"WARM!\" else \"COLD!\"\n",
      "      \t\t\t Subsequently, if you guess closer to the number than the previous guess:\n",
      "      \t\t\t\t then you will be prompted \"WARMER!\" else \"COLDER!\"\n",
      "      \n",
      "      So let's put on the seat belt and get set go!\n",
      "      \n"
     ]
    }
   ],
   "source": [
    "print('''                   Welcome to \"Guess the number\" game\\n\n",
    "-------------------------------------------------------------------------\\n\n",
    "      Objective: \\n \n",
    "      you have to guess the desired number with minimum tries! \\n\\n\n",
    "      Rules of the game: Like every game, this game also has some rules to follow. \\n\n",
    "      (1)\\t As a player, you have to guess a number between 1 to 100!,  \n",
    "      \\t\\t if you guessed any number beyond this range, then you will be prompted to try again.\\n\n",
    "      \\t\\t (please note: this invalid entries will also increase the no. of trails.\n",
    "      \\t\\t you all are discouraged to enter any number beyond the specified range)\\n\n",
    "      (2)\\t However, we will assist you in guessing you the right number. \\n\n",
    "      \\t\\t\\t In first run, if you guess within +/- 10 of the number: \n",
    "      \\t\\t\\t\\t then you will be prompted \"WARM!\" else \"COLD!\"\n",
    "      \\t\\t\\t Subsequently, if you guess closer to the number than the previous guess:\n",
    "      \\t\\t\\t\\t then you will be prompted \"WARMER!\" else \"COLDER!\"\n",
    "      \n",
    "      So let's put on the seat belt and get set go!\n",
    "      ''')"
   ]
  },
  {
   "cell_type": "markdown",
   "metadata": {},
   "source": [
    "#### 2.1.3 Create a list to store guesses\n",
    "\n",
    "Hint: zero is a good placeholder value. It's useful because it evaluates to \"False\""
   ]
  },
  {
   "cell_type": "code",
   "execution_count": 4,
   "metadata": {},
   "outputs": [],
   "source": [
    "active_guesses=[0] # creating active_guesses to  store guesses"
   ]
  },
  {
   "cell_type": "markdown",
   "metadata": {},
   "source": [
    "#### 2.1.4  Write a `while` loop that asks for a valid guess. Test it a few times to make sure it works."
   ]
  },
  {
   "cell_type": "code",
   "execution_count": 5,
   "metadata": {},
   "outputs": [
    {
     "name": "stdout",
     "output_type": "stream",
     "text": [
      "please guess a number between 1 and 100:  999\n",
      "\n",
      "'OUT OF BOUNDS! Please try again:\n",
      "please guess a number between 1 and 100:  0\n",
      "\n",
      "'OUT OF BOUNDS! Please try again:\n",
      "please guess a number between 1 and 100:  77\n"
     ]
    }
   ],
   "source": [
    "# writing a code for valid guess between 1 to 100. \n",
    "# if the number is outside the range of 1 to 100 the output should be OUT OF BOUNDS! Please try again:\n",
    "while True:\n",
    "    guessedNo=int(input(\"please guess a number between 1 and 100:  \"))\n",
    "    if guessedNo >= 1 and guessedNo <= 100: # Assiging guess between 1 - 100\n",
    "        break\n",
    "    else: \n",
    "        print(\"\\n'OUT OF BOUNDS! Please try again:\") # If number is outof 1-100 it is going show Outof Bounds\n",
    "        pass"
   ]
  },
  {
   "cell_type": "markdown",
   "metadata": {},
   "source": [
    "#### 2.1.5 Write a `while` loop that compares the player's guess to our number. If the player guesses correctly, break from the loop. Otherwise, tell the player if they're warmer or colder, and continue asking for guesses.\n",
    "\n",
    "Some hints:\n",
    "* it may help to sketch out all possible combinations on paper first!\n",
    "* you can use the `abs()` function to find the positive difference between two numbers\n",
    "* if you append all new guesses to the list, then the previous guess is given as `guesses[-2]`"
   ]
  },
  {
   "cell_type": "code",
   "execution_count": null,
   "metadata": {},
   "outputs": [
    {
     "name": "stdout",
     "output_type": "stream",
     "text": [
      "Please guess a number between 1 and 100:86\n",
      "WARM!\n",
      "Please guess a number between 1 and 100:87\n",
      "WARMER!\n",
      "Please guess a number between 1 and 100:77\n",
      "COLDER!\n"
     ]
    }
   ],
   "source": [
    "while True:\n",
    "\n",
    "    # Asking the player's Input for Guessing the number \n",
    "    guessedNo = int(input(\"Please guess a number between 1 and 100:\"))\n",
    "    \n",
    "    # Checking if the guessed number is within the defined range of 1 to 100\n",
    "    if guessedNo < 1 or guessedNo > 100: # Assigning the range between 1 to 100\n",
    "        print('OUT OF BOUNDS! Please try again: ')  # print if number is out of bound\n",
    "        continue\n",
    "    \n",
    "    # here we compare the player's guess to the randomly generated number\n",
    "    if guessedNo == num:\n",
    "        print(f'You have won! It took you tries, but you got it {len(active_guesses)} GUESSES!!') # Counting the Number of Guesses\n",
    "        break\n",
    "        \n",
    "    # if guess is incorrect, add guess to the list\n",
    "    active_guesses.append(guessedNo)\n",
    "    \n",
    "    # when testing the first guess, guesses[-2]==0, which evaluates to False\n",
    "    # and brings us down to the second section\n",
    "    # giving the 4 types of categories which are close or far to the guess number as\n",
    "    # WARMER,  COLDER, WARM, COLD\n",
    "    if active_guesses[-2]:  \n",
    "        if abs(num-guessedNo) < abs(num-active_guesses[-2]):\n",
    "            print('WARMER!')  #  closer to the actual number then return \"WARMER!\"\n",
    "        else:\n",
    "            print('COLDER!')   # farther from the actual number return \"COLDER!\"\n",
    "   \n",
    "    else:\n",
    "        if abs(num-guessedNo) <= 10:\n",
    "            print('WARM!') # On a player's first turn, if their guess is within 10 of the number, return  WARM\n",
    "        else: \n",
    "            print('COLD!')   # On a player's first turn, if their guess is further than 10 away from the number, return \"COLD!\""
   ]
  },
  {
   "cell_type": "markdown",
   "metadata": {},
   "source": [
    "That's it! You've just programmed your first game!\n",
    "\n",
    "In the next section we'll learn how to turn some of these repetitive actions into *functions* that can be called whenever we need them."
   ]
  },
  {
   "cell_type": "markdown",
   "metadata": {},
   "source": [
    "### Good Job!"
   ]
  }
 ],
 "metadata": {
  "kernelspec": {
   "display_name": "Python 3",
   "language": "python",
   "name": "python3"
  },
  "language_info": {
   "codemirror_mode": {
    "name": "ipython",
    "version": 3
   },
   "file_extension": ".py",
   "mimetype": "text/x-python",
   "name": "python",
   "nbconvert_exporter": "python",
   "pygments_lexer": "ipython3",
   "version": "3.7.3"
  }
 },
 "nbformat": 4,
 "nbformat_minor": 2
}
