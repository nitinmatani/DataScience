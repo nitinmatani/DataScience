{
 "cells": [
  {
   "cell_type": "markdown",
   "metadata": {},
   "source": [
    "#  Walkthrough Steps Workbook\n",
    "\n",
    "First read Teclov- Assignment notebook before reading it \n",
    "Below is a set of steps for you to follow to try to create the Tic Tac Toe Milestone Project game!"
   ]
  },
  {
   "cell_type": "markdown",
   "metadata": {},
   "source": [
    "#### Some suggested tools before you get started:\n",
    "To take input from a user:\n",
    "\n",
    "    player1 = input(\"Please pick a marker 'X' or 'O'\")\n",
    "    \n",
    "Note that input() takes in a string. If you need an integer value, use\n",
    "\n",
    "    position = int(input('Please enter a number'))\n",
    "    \n",
    "<br>To clear the screen between moves:\n",
    "\n",
    "    from IPython.display import clear_output\n",
    "    clear_output()\n",
    "    \n",
    "Note that clear_output() will only work in jupyter. To clear the screen in other IDEs, consider:\n",
    "\n",
    "    print('\\n'*100)\n",
    "    \n",
    "This scrolls the previous board up out of view. Now on to the program!"
   ]
  },
  {
   "cell_type": "markdown",
   "metadata": {},
   "source": [
    "**Step 1: Write a function that can print out a board. Set up your board as a list, where each index 1-9 corresponds with a number on a number pad, so you get a 3 by 3 board representation.**"
   ]
  },
  {
   "cell_type": "code",
   "execution_count": 15,
   "metadata": {},
   "outputs": [],
   "source": [
    "from IPython.display import clear_output # importing the clear_output function to clear screen from IPython.display library\n",
    "\n",
    "def display_board(board):    # Defining a function to creat a tic-tac-toe board\n",
    "    print('    |     |')     # Creating vertical lines to separate the markers\n",
    "    print('  ' + board[7] + ' |  ' + board[8] + '  |  ' + board[9]) # Defining the numbering for the tic-tac-toe board\n",
    "    print('    |     |')     # Creating vertical lines to separate the markers\n",
    "    print('---------------') # Creating horizontal lines to separate the markers\n",
    "    print('    |     |')     # Creating vertical lines to separate the markers\n",
    "    print('  ' + board[4] + ' |  ' + board[5] + '  |  ' + board[6]) #Defining the numbering for the tic-tac-toe board\n",
    "    print('    |     |')      # Creating vertical lines to separate the markers\n",
    "    print('---------------')  # Creating horizontal lines to separate the markers\n",
    "    print('    |     |')      # Creating vertical lines to separate the markers\n",
    "    print('  ' + board[1] + ' |  ' + board[2] + '  |  ' + board[3])\n",
    "    print('    |     |')      # Creating vertical lines to separate the markers"
   ]
  },
  {
   "cell_type": "markdown",
   "metadata": {},
   "source": [
    "**TEST Step 1:** run your function on a test version of the board list, and make adjustments as necessary"
   ]
  },
  {
   "cell_type": "code",
   "execution_count": 16,
   "metadata": {},
   "outputs": [
    {
     "name": "stdout",
     "output_type": "stream",
     "text": [
      "    |     |\n",
      "  X |  O  |  X\n",
      "    |     |\n",
      "---------------\n",
      "    |     |\n",
      "  O |  X  |  O\n",
      "    |     |\n",
      "---------------\n",
      "    |     |\n",
      "  X |  O  |  X\n",
      "    |     |\n"
     ]
    }
   ],
   "source": [
    "test_board = ['#','X','O','X','O','X','O','X','O','X']\n",
    "display_board(test_board)"
   ]
  },
  {
   "cell_type": "markdown",
   "metadata": {},
   "source": [
    "**Step 2: Write a function that can take in a player input and assign their marker as 'X' or 'O'. Think about using *while* loops to continually ask until you get a correct answer.**"
   ]
  },
  {
   "cell_type": "code",
   "execution_count": 17,
   "metadata": {},
   "outputs": [],
   "source": [
    "def player_input(): # defining a function to assign markers for both players\n",
    "    marker = ''\n",
    "    while not (marker == 'X' or marker == 'O'):  # asking player 1 to choose a valid marker marker\n",
    "        marker = input(\"Player 1, do you want to be 'X' or 'O'?\") # asking player 1 to input a valid marker marker\n",
    "        if marker == 'X': # if player 1 chooses 'X' as a marker, then return the choise of markers as ('X', 'O') for player 1 & player 2 respectively.\n",
    "            return ('X', 'O')\n",
    "        elif marker == 'O': # if player 1 chooses 'O' as a marker, then return the choise of markers as ('O', 'X') for player 1 & player 2 respectively.\n",
    "            return('O', 'X')"
   ]
  },
  {
   "cell_type": "markdown",
   "metadata": {},
   "source": [
    "**TEST Step 2:** run the function to make sure it returns the desired output"
   ]
  },
  {
   "cell_type": "code",
   "execution_count": 18,
   "metadata": {},
   "outputs": [
    {
     "name": "stdout",
     "output_type": "stream",
     "text": [
      "Player 1, do you want to be 'X' or 'O'?O\n"
     ]
    },
    {
     "data": {
      "text/plain": [
       "('O', 'X')"
      ]
     },
     "execution_count": 18,
     "metadata": {},
     "output_type": "execute_result"
    }
   ],
   "source": [
    "player_input()"
   ]
  },
  {
   "cell_type": "markdown",
   "metadata": {},
   "source": [
    "**Step 3: Write a function that takes in the board list object, a marker ('X' or 'O'), and a desired position (number 1-9) and assigns it to the board.**"
   ]
  },
  {
   "cell_type": "code",
   "execution_count": 19,
   "metadata": {},
   "outputs": [],
   "source": [
    "def place_marker(board, marker, number): # defining a function to take inputs of board list, marker & the number.\n",
    "    board[number] = marker"
   ]
  },
  {
   "cell_type": "markdown",
   "metadata": {},
   "source": [
    "**TEST Step 3:** run the place marker function using test parameters and display the modified board"
   ]
  },
  {
   "cell_type": "code",
   "execution_count": 20,
   "metadata": {},
   "outputs": [
    {
     "name": "stdout",
     "output_type": "stream",
     "text": [
      "    |     |\n",
      "  X |  $  |  X\n",
      "    |     |\n",
      "---------------\n",
      "    |     |\n",
      "  O |  X  |  O\n",
      "    |     |\n",
      "---------------\n",
      "    |     |\n",
      "  X |  O  |  X\n",
      "    |     |\n"
     ]
    }
   ],
   "source": [
    "place_marker(test_board,'$',8)\n",
    "display_board(test_board)"
   ]
  },
  {
   "cell_type": "markdown",
   "metadata": {},
   "source": [
    "**Step 4:** Write a function that takes in a board and a mark (X or O) and then checks to see if that mark has won. **"
   ]
  },
  {
   "cell_type": "code",
   "execution_count": 21,
   "metadata": {},
   "outputs": [],
   "source": [
    "def win_check(board, mark): # Defining the function to check for all the wining positions in the board that was created.\n",
    "    return ((board[7] == mark and board[8] == mark and board[9]) or\n",
    "          (board[4] == mark and board[5] == mark and board[6] == mark) or\n",
    "          (board[1] == mark and board[2] == mark and board[3] == mark) or\n",
    "          (board[1] == mark and board[4] == mark and board[7] == mark) or\n",
    "          (board[2] == mark and board[5] == mark and board[8] == mark) or\n",
    "          (board[3] == mark and board[6] == mark and board[9] == mark) or\n",
    "          (board[7] == mark and board[5] == mark and board[3] == mark) or\n",
    "          (board[1] == mark and board[5] == mark and board[9] == mark))"
   ]
  },
  {
   "cell_type": "markdown",
   "metadata": {},
   "source": [
    "**TEST Step 4:** run the win_check function against our test_board - it should return True"
   ]
  },
  {
   "cell_type": "code",
   "execution_count": 22,
   "metadata": {},
   "outputs": [
    {
     "data": {
      "text/plain": [
       "True"
      ]
     },
     "execution_count": 22,
     "metadata": {},
     "output_type": "execute_result"
    }
   ],
   "source": [
    "win_check(test_board,'X')"
   ]
  },
  {
   "cell_type": "markdown",
   "metadata": {},
   "source": [
    "**Step 5: Write a function that uses the random module to randomly decide which player goes first. You may want to lookup random.randint() Return a string of which player went first.**"
   ]
  },
  {
   "cell_type": "code",
   "execution_count": 23,
   "metadata": {},
   "outputs": [],
   "source": [
    "import random\n",
    "def choose_first(): # defining a function to choose a player at random.\n",
    "    if random.randint(1,2) == 1: # random.randit chooses between two numbers(either 1 & 2); if the randomly chosen number equals the said number, then player 1 plays first, else, player 2 plays first. \n",
    "        return 'Player 1'\n",
    "    else:\n",
    "        return 'Player 2'"
   ]
  },
  {
   "cell_type": "markdown",
   "metadata": {},
   "source": [
    "**TEST Step 4:** run the choose_first to check which player plays first."
   ]
  },
  {
   "cell_type": "code",
   "execution_count": 24,
   "metadata": {},
   "outputs": [
    {
     "data": {
      "text/plain": [
       "'Player 1'"
      ]
     },
     "execution_count": 24,
     "metadata": {},
     "output_type": "execute_result"
    }
   ],
   "source": [
    "choose_first()"
   ]
  },
  {
   "cell_type": "markdown",
   "metadata": {},
   "source": [
    "**Step 6: Write a function that returns a boolean indicating whether a space on the board is freely available.**"
   ]
  },
  {
   "cell_type": "code",
   "execution_count": 25,
   "metadata": {},
   "outputs": [],
   "source": [
    "def check_space(board, position): # Defining a function to check if a space on the board is freely available. Inputs to this function are the board list & position to be checked.\n",
    "    return board[position] == ' '"
   ]
  },
  {
   "cell_type": "markdown",
   "metadata": {},
   "source": [
    "**Step 7: Write a function that checks if the board is full and returns a boolean value. True if full, False otherwise.**"
   ]
  },
  {
   "cell_type": "code",
   "execution_count": 26,
   "metadata": {},
   "outputs": [],
   "source": [
    "def full_board_check(board): # Defining a function to check if the board is free or not.\n",
    "    for i in range(1,10): # checking the range in board from 1 to 9.\n",
    "        if check_space(board, i): # using the check_space function defined above to check if the board space is free or not.\n",
    "            return False # If the board space is not free , the return value is False.\n",
    "    return True # If the board space is  free , the return value is True."
   ]
  },
  {
   "cell_type": "markdown",
   "metadata": {},
   "source": [
    "**Step 8: Write a function that asks for a player's next position (as a number 1-9) and then uses the function from step 6 to check if it's a free position. If it is, then return the position for later use.**"
   ]
  },
  {
   "cell_type": "code",
   "execution_count": null,
   "metadata": {},
   "outputs": [],
   "source": [
    "def player_choice(board): # Defining a function to ask the player's next input position\n",
    "    position = ' '\n",
    "    while position not in '1 2 3 4 5 6 7 8 9'.split() or not check_space(board, int(position)): # checking the players next position against numbers from 1 to 9 & the available space on the board. \n",
    "        position = input('Choose you\\'re next position: 1-9 ') # Asking the player to give an input in the range of 1 to 9.\n",
    "    return int(position)"
   ]
  },
  {
   "cell_type": "markdown",
   "metadata": {},
   "source": [
    "**Step 9: Write a function that asks the player if they want to play again and returns a boolean True if they do want to play again.**"
   ]
  },
  {
   "cell_type": "code",
   "execution_count": 1,
   "metadata": {},
   "outputs": [],
   "source": [
    "def replay(): # Defining a function asking the player if they want to play again,\n",
    "    return input('Would you like to play again? Yes or No:').lower().startswith('y')"
   ]
  },
  {
   "cell_type": "markdown",
   "metadata": {
    "collapsed": true
   },
   "source": [
    "**Step 10: Here comes the hard part! Use while loops and the functions you've made to run the game!**"
   ]
  },
  {
   "cell_type": "code",
   "execution_count": null,
   "metadata": {},
   "outputs": [
    {
     "name": "stdout",
     "output_type": "stream",
     "text": [
      "Welcome to Tic Tac Toe!\n"
     ]
    }
   ],
   "source": [
    "print('Welcome to Tic Tac Toe!') # Printing the message - 'Welcome to Tic Tac Toe!'\n",
    "\n",
    "while True:\n",
    "    # Setting up the game\n",
    "    theBoard = [' '] * 10 \n",
    "    player1_marker, player2_marker = player_input() # a function to assign markers for both players is assigned to both players.\n",
    "    turn = choose_first() # Choosing player\n",
    "    print(turn + ' will go first.') # After the player is choosen, we are printing that particular player will go first.\n",
    "    game_on = True # Checking if all conditions are met to begin the game if True or not.\n",
    "\n",
    "    while game_on:\n",
    "        if turn == 'Player 1': # If Player1 is chosen then this code executes\n",
    "            # Player1's turn.\n",
    "            \n",
    "            display_board(theBoard) # Clearing the board\n",
    "            position = player_choice(theBoard) # Asking the player for next position\n",
    "            place_marker(theBoard, player1_marker, position) # puts a marker that the player has chosen to the position mentioned by the player\n",
    "\n",
    "            if win_check(theBoard, player1_marker): # Checks for the winning combination\n",
    "                display_board(theBoard)\n",
    "                print('Congratulations! You have won the game!')\n",
    "                game_on = False\n",
    "            else:\n",
    "                if full_board_check(theBoard): # Checking if the board is full or not\n",
    "                    display_board(theBoard)\n",
    "                    print('The game is a draw!')\n",
    "                    break\n",
    "                else:\n",
    "                    turn = 'Player 2'\n",
    "\n",
    "        else:                        # If Player2 is chosen then the following code executes\n",
    "            # Player2's turn.\n",
    "            \n",
    "            display_board(theBoard)\n",
    "            position = player_choice(theBoard) # Asking the player for next position\n",
    "            place_marker(theBoard, player2_marker, position) # puts a marker that the player has chosen to the position mentioned by the player\n",
    "\n",
    "            if win_check(theBoard, player2_marker): # Checks for the winning combination\n",
    "                display_board(theBoard)\n",
    "                print('Player 2 has won!')\n",
    "                game_on = False\n",
    "            else:\n",
    "                if full_board_check(theBoard): # Checking if the board is full or not\n",
    "                    display_board(theBoard)\n",
    "                    print('The game is a tie!')\n",
    "                    break\n",
    "                else:\n",
    "                    turn = 'Player 1'\n",
    "\n",
    "    if not replay():\n",
    "        break"
   ]
  },
  {
   "cell_type": "markdown",
   "metadata": {
    "collapsed": true
   },
   "source": [
    "## Good Job!"
   ]
  }
 ],
 "metadata": {
  "kernelspec": {
   "display_name": "Python 3",
   "language": "python",
   "name": "python3"
  },
  "language_info": {
   "codemirror_mode": {
    "name": "ipython",
    "version": 3
   },
   "file_extension": ".py",
   "mimetype": "text/x-python",
   "name": "python",
   "nbconvert_exporter": "python",
   "pygments_lexer": "ipython3",
   "version": "3.7.1"
  }
 },
 "nbformat": 4,
 "nbformat_minor": 1
}
