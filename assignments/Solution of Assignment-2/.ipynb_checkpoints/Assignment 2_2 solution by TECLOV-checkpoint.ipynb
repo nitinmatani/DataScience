{
 "cells": [
  {
   "cell_type": "markdown",
   "metadata": {},
   "source": [
    "# Functions and Methods Homework \n",
    "\n",
    "Complete the following questions:\n",
    "____\n",
    "**Write a function that computes the volume of a sphere given its radius.**\n",
    "<p>The volume of a sphere is given as $$\\frac{4}{3} πr^3$$</p>"
   ]
  },
  {
   "cell_type": "code",
   "execution_count": 1,
   "metadata": {},
   "outputs": [],
   "source": [
    "# import the library\n",
    "import math\n",
    "\n",
    "def vol(rad):\n",
    "    return (4/3*math.pi*rad**3)\n",
    "    pass"
   ]
  },
  {
   "cell_type": "code",
   "execution_count": 2,
   "metadata": {},
   "outputs": [
    {
     "data": {
      "text/plain": [
       "33.510321638291124"
      ]
     },
     "execution_count": 2,
     "metadata": {},
     "output_type": "execute_result"
    }
   ],
   "source": [
    "# Checking the volume of sphere for radius 2\n",
    "vol(2)"
   ]
  },
  {
   "cell_type": "markdown",
   "metadata": {},
   "source": [
    "___\n",
    "**Write a function that checks whether a number is in a given range (inclusive of high and low)**"
   ]
  },
  {
   "cell_type": "code",
   "execution_count": 7,
   "metadata": {},
   "outputs": [],
   "source": [
    "# Check if the number is in given range\n",
    "# num : given number \n",
    "# low and high numbers define the range\n",
    "def ran_check(num,low,high):\n",
    "    for x in range(low,high+1):\n",
    "        if num==x:\n",
    "            print ('Number is within the range')\n",
    "            break\n",
    "    else :\n",
    "            print( 'Number is out of range')"
   ]
  },
  {
   "cell_type": "code",
   "execution_count": 11,
   "metadata": {},
   "outputs": [
    {
     "name": "stdout",
     "output_type": "stream",
     "text": [
      "Number is within the range\n"
     ]
    }
   ],
   "source": [
    "# lets check 5 is between the range od 2,7\n",
    "\n",
    "ran_check(5,2,7)\n",
    "# the output is going to Number between the range "
   ]
  },
  {
   "cell_type": "code",
   "execution_count": 12,
   "metadata": {},
   "outputs": [
    {
     "name": "stdout",
     "output_type": "stream",
     "text": [
      "Number is out of range\n"
     ]
    }
   ],
   "source": [
    "# lets try the Number is out of range \n",
    "\n",
    "ran_check(79, 2,7)\n",
    "# the output is going to be NUmber is out of range  "
   ]
  },
  {
   "cell_type": "markdown",
   "metadata": {},
   "source": [
    "If you only wanted to return a boolean:"
   ]
  },
  {
   "cell_type": "code",
   "execution_count": 13,
   "metadata": {},
   "outputs": [],
   "source": [
    "# Check if the number is in given range with Boolean \n",
    "# whether the output is True or False\n",
    "# num : given number \n",
    "# low and high numbers define the range\n",
    "\n",
    "def ran_bool(num,low,high):\n",
    "    for x in range(low,high+1):\n",
    "        if num==x:\n",
    "            return True\n",
    "            break\n",
    "    else:\n",
    "        return False"
   ]
  },
  {
   "cell_type": "code",
   "execution_count": 15,
   "metadata": {},
   "outputs": [
    {
     "data": {
      "text/plain": [
       "True"
      ]
     },
     "execution_count": 15,
     "metadata": {},
     "output_type": "execute_result"
    }
   ],
   "source": [
    "# lets check the above \n",
    "# lets see 3 is range between 1 to 10\n",
    "ran_bool(3,1,10)\n",
    "\n",
    "# here the Output is going to be True because the 3 range betwween 1 to 10"
   ]
  },
  {
   "cell_type": "code",
   "execution_count": 18,
   "metadata": {},
   "outputs": [
    {
     "data": {
      "text/plain": [
       "False"
      ]
     },
     "execution_count": 18,
     "metadata": {},
     "output_type": "execute_result"
    }
   ],
   "source": [
    "# lets check the above \n",
    "# lets see 100  is range between 1 to 10\n",
    "ran_bool(100,1,10)\n",
    "\n",
    "# here the Output is going to be False because the 100 not range betwween 1 to 10"
   ]
  },
  {
   "cell_type": "markdown",
   "metadata": {},
   "source": [
    "____\n",
    "**Write a Python function that accepts a string and calculates the number of upper case letters and lower case letters.**\n",
    "\n",
    "    Sample String : 'Hello Mr. Rogers, how are you this fine Tuesday?'\n",
    "    Expected Output : \n",
    "    No. of Upper case characters : 4\n",
    "    No. of Lower case Characters : 33\n",
    "\n",
    "HINT: Two string methods that might prove useful: **.isupper()** and **.islower()**\n",
    "\n",
    "If you feel ambitious, explore the Collections module to solve this problem!"
   ]
  },
  {
   "cell_type": "code",
   "execution_count": 19,
   "metadata": {},
   "outputs": [],
   "source": [
    "#lets write the function for counting number of Uppercase and Lowercase \n",
    "# .isupper is for Upper Case\n",
    "# .islower is for lower case\n",
    "# passing this arguments to 's'\n",
    "\n",
    "def up_low(s):\n",
    "    u={\"UPPER_CASE\":0}\n",
    "    l ={\"LOWER_CASE\":0}\n",
    "    \n",
    "    for c in s:\n",
    "        if c.isupper():\n",
    "            u[\"UPPER_CASE\"]+=1\n",
    "        elif c.islower():\n",
    "            l[\"LOWER_CASE\"]+=1\n",
    "        else:\n",
    "            pass\n",
    "    print (\"Original String : \", s)\n",
    "    print (\"Number of Upper case characters : \", u[\"UPPER_CASE\"])\n",
    "    print (\"Number of Lower case Characters : \", l[\"LOWER_CASE\"])"
   ]
  },
  {
   "cell_type": "code",
   "execution_count": 20,
   "metadata": {},
   "outputs": [
    {
     "name": "stdout",
     "output_type": "stream",
     "text": [
      "Original String :  Hello Mr. Rogers, how are you this fine Tuesday?\n",
      "Number of Upper case characters :  4\n",
      "Number of Lower case Characters :  33\n"
     ]
    }
   ],
   "source": [
    "s =  'Hello Mr. Rogers, how are you this fine Tuesday?'\n",
    "\n",
    "# lets see the How many Upper cases are present is 's'\n",
    "# lets see the How many Lower cases are present is 's'\n",
    "up_low(s)\n",
    "\n",
    "# The Output is going to be Upper case : 4\n",
    "# The Output is going to be Lower case : 33"
   ]
  },
  {
   "cell_type": "code",
   "execution_count": 20,
   "metadata": {},
   "outputs": [
    {
     "name": "stdout",
     "output_type": "stream",
     "text": [
      "Original String :  A More Formal Definition of Sentence\n",
      "Number of Upper case characters :  5\n",
      "Number of Lower case Characters :  26\n"
     ]
    }
   ],
   "source": [
    "s =  'A More Formal Definition of Sentence'\n",
    "\n",
    "# lets see the How many Upper cases are present is 's'\n",
    "# lets see the How many Lower cases are present is 's'\n",
    "up_low(s)\n",
    "\n",
    "# The Output is going to be Upper case : 5\n",
    "# The Output is going to be Lower case : 26"
   ]
  },
  {
   "cell_type": "markdown",
   "metadata": {},
   "source": [
    "____\n",
    "**Write a Python function that takes a list and returns a new list with unique elements of the first list.**\n",
    "\n",
    "    Sample List : [1,1,1,1,2,2,3,3,3,3,4,5]\n",
    "    Unique List : [1, 2, 3, 4, 5]"
   ]
  },
  {
   "cell_type": "code",
   "execution_count": 23,
   "metadata": {},
   "outputs": [],
   "source": [
    "# function to get unique values from the list\n",
    "def unique_list(lst): \n",
    "  \n",
    "    # intilize a null list \n",
    "    x = [] \n",
    "      \n",
    "    # traverse for all elements \n",
    "    for i in lst: \n",
    "        # check if number exists in unique_list or not \n",
    "        if i not in x: \n",
    "            x.append(i)\n",
    "    return x"
   ]
  },
  {
   "cell_type": "code",
   "execution_count": 24,
   "metadata": {},
   "outputs": [
    {
     "data": {
      "text/plain": [
       "[1, 2, 3, 4, 5]"
      ]
     },
     "execution_count": 24,
     "metadata": {},
     "output_type": "execute_result"
    }
   ],
   "source": [
    "# lets see the unique values from the list\n",
    "unique_list([1,1,1,1,2,2,3,3,3,3,4,5])"
   ]
  },
  {
   "cell_type": "markdown",
   "metadata": {},
   "source": [
    "____\n",
    "**Write a Python function to multiply all the numbers in a list.**\n",
    "\n",
    "    Sample List : [1, 2, 3, -4]\n",
    "    Expected Output : -24"
   ]
  },
  {
   "cell_type": "code",
   "execution_count": 30,
   "metadata": {},
   "outputs": [],
   "source": [
    "# Python program to multiply all values in the given list\n",
    "def multiply(numbers):  \n",
    "    # Multiply the elements\n",
    "    total = 1\n",
    "    for x in numbers:\n",
    "        total = total *x\n",
    "    return total"
   ]
  },
  {
   "cell_type": "code",
   "execution_count": 31,
   "metadata": {},
   "outputs": [
    {
     "data": {
      "text/plain": [
       "0"
      ]
     },
     "execution_count": 31,
     "metadata": {},
     "output_type": "execute_result"
    }
   ],
   "source": [
    "# lets multiply the values given in the list\n",
    "multiply([1,2,3,-4])"
   ]
  },
  {
   "cell_type": "markdown",
   "metadata": {},
   "source": [
    "____\n",
    "**Write a Python function that checks whether a passed in string is palindrome or not.**\n",
    "\n",
    "Note: A palindrome is word, phrase, or sequence that reads the same backward as forward, e.g., madam or nurses run."
   ]
  },
  {
   "cell_type": "code",
   "execution_count": 36,
   "metadata": {},
   "outputs": [],
   "source": [
    "def palindrome(word):\n",
    "\n",
    "    letters = list(word)\n",
    "    palindrome = True\n",
    "\n",
    "    for letter in letters:\n",
    "        if letter == letters[-1]:\n",
    "            letters.pop(-1)\n",
    "        else:\n",
    "            palindrome = False\n",
    "            break\n",
    "\n",
    "    return palindrome"
   ]
  },
  {
   "cell_type": "code",
   "execution_count": 37,
   "metadata": {},
   "outputs": [
    {
     "data": {
      "text/plain": [
       "True"
      ]
     },
     "execution_count": 37,
     "metadata": {},
     "output_type": "execute_result"
    }
   ],
   "source": [
    "# lets check the Madam is not palindrome or not \n",
    "palindrome('madam')\n",
    "# Madam is palindrome its an vice versa \n",
    "# the output is True"
   ]
  },
  {
   "cell_type": "code",
   "execution_count": 38,
   "metadata": {},
   "outputs": [
    {
     "data": {
      "text/plain": [
       "False"
      ]
     },
     "execution_count": 38,
     "metadata": {},
     "output_type": "execute_result"
    }
   ],
   "source": [
    "# lets check the Madam is not palindrome or not \n",
    "palindrome(\"Hello\")\n",
    "\n",
    "# Hello is not an palindrome the output is going to be False"
   ]
  },
  {
   "cell_type": "markdown",
   "metadata": {},
   "source": [
    "____\n",
    "#### Hard:\n",
    "\n",
    "**Write a Python function to check whether a string is pangram or not.**\n",
    "\n",
    "    Note : Pangrams are words or sentences containing every letter of the alphabet at least once.\n",
    "    For example : \"The quick brown fox jumps over the lazy dog\"\n",
    "\n",
    "Hint: Look at the string module"
   ]
  },
  {
   "cell_type": "code",
   "execution_count": 39,
   "metadata": {},
   "outputs": [],
   "source": [
    "import string\n",
    "\n",
    "# Check if the string is pangram \n",
    "def ispangram(str1, alphabet=string.ascii_lowercase):\n",
    "    alphaset = set(alphabet)\n",
    "    return alphaset <= set(str1.lower())"
   ]
  },
  {
   "cell_type": "code",
   "execution_count": 43,
   "metadata": {},
   "outputs": [
    {
     "data": {
      "text/plain": [
       "False"
      ]
     },
     "execution_count": 43,
     "metadata": {},
     "output_type": "execute_result"
    }
   ],
   "source": [
    "# Lets check pangram for below string\n",
    "ispangram('The quick brown fox jumps over the lazy dog')"
   ]
  },
  {
   "cell_type": "code",
   "execution_count": 41,
   "metadata": {},
   "outputs": [
    {
     "data": {
      "text/plain": [
       "False"
      ]
     },
     "execution_count": 41,
     "metadata": {},
     "output_type": "execute_result"
    }
   ],
   "source": [
    "# Lets check pangram for below string\n",
    "ispangram('python program')"
   ]
  },
  {
   "cell_type": "code",
   "execution_count": 42,
   "metadata": {},
   "outputs": [
    {
     "data": {
      "text/plain": [
       "'abcdefghijklmnopqrstuvwxyz'"
      ]
     },
     "execution_count": 42,
     "metadata": {},
     "output_type": "execute_result"
    }
   ],
   "source": [
    "# Storing the value in variable result \n",
    "string.ascii_lowercase"
   ]
  },
  {
   "cell_type": "markdown",
   "metadata": {
    "collapsed": true
   },
   "source": [
    "#### Great Job!"
   ]
  }
 ],
 "metadata": {
  "kernelspec": {
   "display_name": "Python 3",
   "language": "python",
   "name": "python3"
  },
  "language_info": {
   "codemirror_mode": {
    "name": "ipython",
    "version": 3
   },
   "file_extension": ".py",
   "mimetype": "text/x-python",
   "name": "python",
   "nbconvert_exporter": "python",
   "pygments_lexer": "ipython3",
   "version": "3.7.3"
  }
 },
 "nbformat": 4,
 "nbformat_minor": 1
}
